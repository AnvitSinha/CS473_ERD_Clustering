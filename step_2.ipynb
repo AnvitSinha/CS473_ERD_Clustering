{
 "cells": [
  {
   "cell_type": "code",
   "execution_count": 2,
   "id": "3438fe95-47be-406e-9a31-117d266c0269",
   "metadata": {},
   "outputs": [],
   "source": [
    "# step 2: use easyocr to extract words from the images in 'step1_output' and save them to an array. write the results to a text file\n",
    "\n",
    "import easyocr"
   ]
  }
 ],
 "metadata": {
  "kernelspec": {
   "display_name": "Python 3 (ipykernel)",
   "language": "python",
   "name": "python3"
  },
  "language_info": {
   "codemirror_mode": {
    "name": "ipython",
    "version": 3
   },
   "file_extension": ".py",
   "mimetype": "text/x-python",
   "name": "python",
   "nbconvert_exporter": "python",
   "pygments_lexer": "ipython3",
   "version": "3.10.13"
  }
 },
 "nbformat": 4,
 "nbformat_minor": 5
}
