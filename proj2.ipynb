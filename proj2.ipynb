{
  "nbformat": 4,
  "nbformat_minor": 0,
  "metadata": {
    "colab": {
      "provenance": [],
      "gpuType": "T4"
    },
    "kernelspec": {
      "name": "python3",
      "display_name": "Python 3"
    },
    "language_info": {
      "name": "python"
    },
    "accelerator": "GPU"
  },
  "cells": [
    {
      "cell_type": "code",
      "execution_count": 61,
      "metadata": {
        "colab": {
          "base_uri": "https://localhost:8080/"
        },
        "id": "3sfKxTI0RFsd",
        "outputId": "919dd165-4e09-4712-90e6-843cc11dc273"
      },
      "outputs": [
        {
          "output_type": "stream",
          "name": "stdout",
          "text": [
            "Requirement already satisfied: numpy in /usr/local/lib/python3.10/dist-packages (1.23.5)\n",
            "Requirement already satisfied: scikit-learn in /usr/local/lib/python3.10/dist-packages (1.2.2)\n",
            "Requirement already satisfied: nltk in /usr/local/lib/python3.10/dist-packages (3.8.1)\n",
            "Requirement already satisfied: scipy>=1.3.2 in /usr/local/lib/python3.10/dist-packages (from scikit-learn) (1.11.4)\n",
            "Requirement already satisfied: joblib>=1.1.1 in /usr/local/lib/python3.10/dist-packages (from scikit-learn) (1.3.2)\n",
            "Requirement already satisfied: threadpoolctl>=2.0.0 in /usr/local/lib/python3.10/dist-packages (from scikit-learn) (3.2.0)\n",
            "Requirement already satisfied: click in /usr/local/lib/python3.10/dist-packages (from nltk) (8.1.7)\n",
            "Requirement already satisfied: regex>=2021.8.3 in /usr/local/lib/python3.10/dist-packages (from nltk) (2023.6.3)\n",
            "Requirement already satisfied: tqdm in /usr/local/lib/python3.10/dist-packages (from nltk) (4.66.1)\n"
          ]
        }
      ],
      "source": [
        "!pip install numpy scikit-learn nltk\n"
      ]
    },
    {
      "cell_type": "code",
      "source": [
        "import numpy as np\n",
        "from sklearn.cluster import KMeans\n",
        "from sklearn.feature_extraction.text import TfidfVectorizer\n",
        "from sklearn.decomposition import PCA\n",
        "from sklearn.preprocessing import StandardScaler\n",
        "from nltk.stem import PorterStemmer\n",
        "from nltk.corpus import stopwords\n",
        "import nltk\n",
        "nltk.download('stopwords')\n"
      ],
      "metadata": {
        "colab": {
          "base_uri": "https://localhost:8080/"
        },
        "id": "rRsx0vS5XgWI",
        "outputId": "768e5090-2e68-4df6-be82-3c872f949387"
      },
      "execution_count": 63,
      "outputs": [
        {
          "output_type": "stream",
          "name": "stderr",
          "text": [
            "[nltk_data] Downloading package stopwords to /root/nltk_data...\n",
            "[nltk_data]   Package stopwords is already up-to-date!\n"
          ]
        },
        {
          "output_type": "execute_result",
          "data": {
            "text/plain": [
              "True"
            ]
          },
          "metadata": {},
          "execution_count": 63
        }
      ]
    },
    {
      "cell_type": "code",
      "source": [
        "# Sample ERD data (replace with actual data)\n",
        "erds = [\n",
        "    {\n",
        "        'num_entities': 4,\n",
        "        'num_relationships': 2,\n",
        "        'attributes': ['name', 'email', 'age'],\n",
        "        'text': 'User has email and age. User connects to Order.'\n",
        "    },\n",
        "    {\n",
        "        'num_entities': 6,\n",
        "        'num_relationships': 3,\n",
        "        'attributes': ['product_id', 'price', 'inventory_count'],\n",
        "        'text': 'Product includes price and inventory count. Order includes product.'\n",
        "    },\n",
        "    {\n",
        "        'num_entities': 3,\n",
        "        'num_relationships': 1,\n",
        "        'attributes': ['title', 'publish_date'],\n",
        "        'text': 'Book has title and publish date. Author writes Book.'\n",
        "    },\n",
        "    {\n",
        "        'num_entities': 5,\n",
        "        'num_relationships': 2,\n",
        "        'attributes': ['department', 'manager'],\n",
        "        'text': 'Employee belongs to a department. Manager supervises department.'\n",
        "    },\n",
        "    {\n",
        "        'num_entities': 7,\n",
        "        'num_relationships': 4,\n",
        "        'attributes': ['order_id', 'order_date', 'customer_id'],\n",
        "        'text': 'Customer places order. Order has order date and order ID.'\n",
        "    },\n",
        "    {\n",
        "        'num_entities': 2,\n",
        "        'num_relationships': 1,\n",
        "        'attributes': ['country', 'capital'],\n",
        "        'text': 'Country has a capital. Each country has unique capital.'\n",
        "    },\n",
        "    {\n",
        "        'num_entities': 8,\n",
        "        'num_relationships': 5,\n",
        "        'attributes': ['flight_number', 'destination', 'departure_time'],\n",
        "        'text': 'Flight has a number, destination, and departure time. Airport manages flights.'\n",
        "    },\n",
        "    {\n",
        "        'num_entities': 3,\n",
        "        'num_relationships': 2,\n",
        "        'attributes': ['genre', 'author'],\n",
        "        'text': 'Book has a genre. Author writes multiple books.'\n",
        "    },\n",
        "    {\n",
        "        'num_entities': 4,\n",
        "        'num_relationships': 3,\n",
        "        'attributes': ['brand', 'model', 'price'],\n",
        "        'text': 'Car model has a brand and price. Dealership sells various car models.'\n",
        "    },\n",
        "    {\n",
        "        'num_entities': 5,\n",
        "        'num_relationships': 3,\n",
        "        'attributes': ['building', 'room_number', 'capacity'],\n",
        "        'text': 'Building contains many rooms. Each room has a specific capacity.'\n",
        "    }\n",
        "    # You can add more ERD samples as needed\n",
        "]\n"
      ],
      "metadata": {
        "id": "Pxjxpj86XfzC"
      },
      "execution_count": 64,
      "outputs": []
    },
    {
      "cell_type": "code",
      "source": [
        "def preprocess_text(text):\n",
        "    stemmer = PorterStemmer()\n",
        "    stop_words = set(stopwords.words('english'))\n",
        "    words = [stemmer.stem(word) for word in text.split() if word.lower() not in stop_words]\n",
        "    return ' '.join(words)\n"
      ],
      "metadata": {
        "id": "UVaKAR4PTEvI"
      },
      "execution_count": 65,
      "outputs": []
    },
    {
      "cell_type": "code",
      "source": [
        "# Vectorize text features\n",
        "vectorizer = TfidfVectorizer()\n",
        "text_features = vectorizer.fit_transform([preprocess_text(erd['text']) for erd in erds])\n",
        "\n",
        "# Combine all features\n",
        "other_features = np.array([[erd['num_entities'], erd['num_relationships']] for erd in erds])\n",
        "features_combined = np.hstack((other_features, text_features.toarray()))\n"
      ],
      "metadata": {
        "id": "sTEd7n-3XFu3"
      },
      "execution_count": 66,
      "outputs": []
    },
    {
      "cell_type": "code",
      "source": [
        "kmeans = KMeans(n_clusters=3, init='k-means++')\n",
        "kmeans.fit(features_combined)\n",
        "cluster_assignments = kmeans.labels_\n",
        "print(\"Cluster assignments:\", cluster_assignments)\n",
        "\n"
      ],
      "metadata": {
        "colab": {
          "base_uri": "https://localhost:8080/"
        },
        "id": "Pfvk3VS4XWMM",
        "outputId": "6edf687e-e686-425c-f352-39b4d9fec24f"
      },
      "execution_count": 68,
      "outputs": [
        {
          "output_type": "stream",
          "name": "stdout",
          "text": [
            "Cluster assignments: [2 2 0 2 1 0 1 0 2 2]\n"
          ]
        },
        {
          "output_type": "stream",
          "name": "stderr",
          "text": [
            "/usr/local/lib/python3.10/dist-packages/sklearn/cluster/_kmeans.py:870: FutureWarning: The default value of `n_init` will change from 10 to 'auto' in 1.4. Set the value of `n_init` explicitly to suppress the warning\n",
            "  warnings.warn(\n"
          ]
        }
      ]
    }
  ]
}