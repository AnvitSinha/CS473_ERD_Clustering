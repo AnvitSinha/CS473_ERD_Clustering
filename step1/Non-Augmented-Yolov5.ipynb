{
  "cells": [
    {
      "cell_type": "code",
      "execution_count": null,
      "id": "1476dd00",
      "metadata": {
        "id": "1476dd00"
      },
      "outputs": [],
      "source": [
        "#Setup\n",
        "!git clone https://github.com/ultralytics/yolov5\n",
        "%cd yolov5\n",
        "%pip install -qr requirements.txt\n",
        "import torch\n",
        "import os\n",
        "from IPython.display import Image, clear_output\n"
      ]
    },
    {
      "cell_type": "code",
      "execution_count": null,
      "id": "30f62ccd",
      "metadata": {
        "id": "30f62ccd"
      },
      "outputs": [],
      "source": [
        "os.environ[\"DATASET_DIRECTORY\"] = \"/content/datasets\""
      ]
    },
    {
      "cell_type": "code",
      "execution_count": null,
      "id": "f7cc6db4",
      "metadata": {
        "id": "f7cc6db4"
      },
      "outputs": [],
      "source": [
        "#Dataset from roboflow\n",
        "!pip install roboflow\n",
        "\n",
        "!pip install roboflow\n",
        "\n",
        "from roboflow import Roboflow\n",
        "rf = Roboflow(api_key=\"3kZUcOURZwpHNUXrVRYO\")\n",
        "project = rf.workspace(\"cs473-proj\").project(\"cs473-proj1\")\n",
        "dataset = project.version(3).download(\"yolov5\")\n"
      ]
    },
    {
      "cell_type": "code",
      "source": [
        "#Train model using yolo\n",
        "!python train.py --img 640 --batch 16 --epochs 100 --data /content/datasets/CS473-Proj1-3/data.yaml --cfg yolov5s.yaml --weights yolov5m.pt --name step1_train\n"
      ],
      "metadata": {
        "id": "uOY8XWzNctUn"
      },
      "id": "uOY8XWzNctUn",
      "execution_count": null,
      "outputs": []
    },
    {
      "cell_type": "code",
      "source": [
        "#Prediction (for new data sets);\n",
        "!python detect.py --source /content/datasets/CS473-Proj1-3/valid/images --weights /content/yolov5/runs/train/step1_train/weights/best.pt --img-size 640 --conf-thres 0.25"
      ],
      "metadata": {
        "id": "cfbxH65ZkCwQ"
      },
      "id": "cfbxH65ZkCwQ",
      "execution_count": null,
      "outputs": []
    },
    {
      "cell_type": "code",
      "execution_count": null,
      "id": "4e11bd16-44b0-4527-a555-2c1593cfea4c",
      "metadata": {
        "id": "4e11bd16-44b0-4527-a555-2c1593cfea4c"
      },
      "outputs": [],
      "source": [
        "# create the function to get the co-ordinates\n",
        "import os\n",
        "from IPython.display import Image, display\n",
        "\n",
        "# Define the directory where the inference results are saved\n",
        "output_directory = \"runs/detect/exp\"\n",
        "\n",
        "# Get a list of all the image files in the output directory\n",
        "image_files = [f for f in os.listdir(output_directory) if os.path.isfile(os.path.join(output_directory, f)) and f.endswith(('.png', '.jpg', '.jpeg'))]\n",
        "\n",
        "# Display each image\n",
        "for image_file in image_files:\n",
        "    display(Image(filename=os.path.join(output_directory, image_file)))\n",
        "\n",
        "\n"
      ]
    },
    {
      "cell_type": "code",
      "execution_count": null,
      "id": "7a1843ae-271e-4f2a-8858-874d0ff60443",
      "metadata": {
        "id": "7a1843ae-271e-4f2a-8858-874d0ff60443"
      },
      "outputs": [],
      "source": [
        "# create the function to save the outputs to the folder \"step1_output\""
      ]
    }
  ],
  "metadata": {
    "kernelspec": {
      "display_name": "Python 3",
      "name": "python3"
    },
    "language_info": {
      "codemirror_mode": {
        "name": "ipython",
        "version": 3
      },
      "file_extension": ".py",
      "mimetype": "text/x-python",
      "name": "python",
      "nbconvert_exporter": "python",
      "pygments_lexer": "ipython3",
      "version": "3.10.13"
    },
    "colab": {
      "provenance": [],
      "gpuType": "T4"
    },
    "accelerator": "GPU"
  },
  "nbformat": 4,
  "nbformat_minor": 5
}