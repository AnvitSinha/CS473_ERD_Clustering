{
 "cells": [
  {
   "cell_type": "code",
   "execution_count": 1,
   "metadata": {
    "colab": {
     "base_uri": "https://localhost:8080/"
    },
    "id": "X_eVMuMAS0wo",
    "outputId": "fcbce4fd-ac7c-4cbd-d3e4-5f43443fee6f"
   },
   "outputs": [
    {
     "name": "stdout",
     "output_type": "stream",
     "text": [
      "Requirement already satisfied: easyocr in /Users/kazisha/miniconda3/envs/py310/lib/python3.10/site-packages (1.7.1)\n",
      "Requirement already satisfied: torch in /Users/kazisha/miniconda3/envs/py310/lib/python3.10/site-packages (from easyocr) (2.1.0)\n",
      "Requirement already satisfied: torchvision>=0.5 in /Users/kazisha/miniconda3/envs/py310/lib/python3.10/site-packages (from easyocr) (0.16.0)\n",
      "Requirement already satisfied: opencv-python-headless in /Users/kazisha/miniconda3/envs/py310/lib/python3.10/site-packages (from easyocr) (4.8.1.78)\n",
      "Requirement already satisfied: scipy in /Users/kazisha/miniconda3/envs/py310/lib/python3.10/site-packages (from easyocr) (1.11.3)\n",
      "Requirement already satisfied: numpy in /Users/kazisha/miniconda3/envs/py310/lib/python3.10/site-packages (from easyocr) (1.26.1)\n",
      "Requirement already satisfied: Pillow in /Users/kazisha/miniconda3/envs/py310/lib/python3.10/site-packages (from easyocr) (10.1.0)\n",
      "Requirement already satisfied: scikit-image in /Users/kazisha/miniconda3/envs/py310/lib/python3.10/site-packages (from easyocr) (0.22.0)\n",
      "Requirement already satisfied: python-bidi in /Users/kazisha/miniconda3/envs/py310/lib/python3.10/site-packages (from easyocr) (0.4.2)\n",
      "Requirement already satisfied: PyYAML in /Users/kazisha/miniconda3/envs/py310/lib/python3.10/site-packages (from easyocr) (6.0.1)\n",
      "Requirement already satisfied: Shapely in /Users/kazisha/miniconda3/envs/py310/lib/python3.10/site-packages (from easyocr) (2.0.2)\n",
      "Requirement already satisfied: pyclipper in /Users/kazisha/miniconda3/envs/py310/lib/python3.10/site-packages (from easyocr) (1.3.0.post5)\n",
      "Requirement already satisfied: ninja in /Users/kazisha/miniconda3/envs/py310/lib/python3.10/site-packages (from easyocr) (1.11.1.1)\n",
      "Requirement already satisfied: requests in /Users/kazisha/miniconda3/envs/py310/lib/python3.10/site-packages (from torchvision>=0.5->easyocr) (2.31.0)\n",
      "Requirement already satisfied: filelock in /Users/kazisha/miniconda3/envs/py310/lib/python3.10/site-packages (from torch->easyocr) (3.12.4)\n",
      "Requirement already satisfied: typing-extensions in /Users/kazisha/miniconda3/envs/py310/lib/python3.10/site-packages (from torch->easyocr) (4.8.0)\n",
      "Requirement already satisfied: sympy in /Users/kazisha/miniconda3/envs/py310/lib/python3.10/site-packages (from torch->easyocr) (1.12)\n",
      "Requirement already satisfied: networkx in /Users/kazisha/miniconda3/envs/py310/lib/python3.10/site-packages (from torch->easyocr) (3.2)\n",
      "Requirement already satisfied: jinja2 in /Users/kazisha/miniconda3/envs/py310/lib/python3.10/site-packages (from torch->easyocr) (3.1.2)\n",
      "Requirement already satisfied: fsspec in /Users/kazisha/miniconda3/envs/py310/lib/python3.10/site-packages (from torch->easyocr) (2023.10.0)\n",
      "Requirement already satisfied: six in /Users/kazisha/miniconda3/envs/py310/lib/python3.10/site-packages (from python-bidi->easyocr) (1.16.0)\n",
      "Requirement already satisfied: imageio>=2.27 in /Users/kazisha/miniconda3/envs/py310/lib/python3.10/site-packages (from scikit-image->easyocr) (2.31.5)\n",
      "Requirement already satisfied: tifffile>=2022.8.12 in /Users/kazisha/miniconda3/envs/py310/lib/python3.10/site-packages (from scikit-image->easyocr) (2023.9.26)\n",
      "Requirement already satisfied: packaging>=21 in /Users/kazisha/miniconda3/envs/py310/lib/python3.10/site-packages (from scikit-image->easyocr) (23.2)\n",
      "Requirement already satisfied: lazy_loader>=0.3 in /Users/kazisha/miniconda3/envs/py310/lib/python3.10/site-packages (from scikit-image->easyocr) (0.3)\n",
      "Requirement already satisfied: MarkupSafe>=2.0 in /Users/kazisha/miniconda3/envs/py310/lib/python3.10/site-packages (from jinja2->torch->easyocr) (2.1.3)\n",
      "Requirement already satisfied: charset-normalizer<4,>=2 in /Users/kazisha/miniconda3/envs/py310/lib/python3.10/site-packages (from requests->torchvision>=0.5->easyocr) (3.3.0)\n",
      "Requirement already satisfied: idna<4,>=2.5 in /Users/kazisha/miniconda3/envs/py310/lib/python3.10/site-packages (from requests->torchvision>=0.5->easyocr) (3.4)\n",
      "Requirement already satisfied: urllib3<3,>=1.21.1 in /Users/kazisha/miniconda3/envs/py310/lib/python3.10/site-packages (from requests->torchvision>=0.5->easyocr) (2.0.7)\n",
      "Requirement already satisfied: certifi>=2017.4.17 in /Users/kazisha/miniconda3/envs/py310/lib/python3.10/site-packages (from requests->torchvision>=0.5->easyocr) (2023.7.22)\n",
      "Requirement already satisfied: mpmath>=0.19 in /Users/kazisha/miniconda3/envs/py310/lib/python3.10/site-packages (from sympy->torch->easyocr) (1.3.0)\n"
     ]
    }
   ],
   "source": [
    "!pip install easyocr\n",
    "import easyocr\n",
    "\n",
    "def extract_text_line_by_line(image_path):\n",
    "    # Create an EasyOCR reader instance with English as the default language\n",
    "    reader = easyocr.Reader(lang_list=['en'])\n",
    "\n",
    "    # Extract text from the image\n",
    "    results = reader.readtext(image_path, paragraph=False)\n",
    "    print(results)\n",
    "\n",
    "    # Sort results based on top-left y coordinate (for top to bottom)\n",
    "    # and then on the top-left x coordinate (for left to right)\n",
    "    # results.sort(key=lambda detection: (detection[0][0][1], detection[0][0][0]))\n",
    "\n",
    "    # Extract and store recognized text\n",
    "    extracted_lines = [detection[1] for detection in results]\n",
    "\n",
    "    return extracted_lines"
   ]
  },
  {
   "cell_type": "code",
   "execution_count": 3,
   "metadata": {
    "colab": {
     "base_uri": "https://localhost:8080/"
    },
    "id": "_Qev2nQgS9kO",
    "outputId": "9c4b08ef-7f76-4373-8e3a-77cc2012cfce"
   },
   "outputs": [
    {
     "name": "stdout",
     "output_type": "stream",
     "text": [
      "[([[277, 67], [385, 67], [385, 115], [277, 115]], 'flight', 0.999983939864756), ([[162, 150], [286, 150], [286, 198], [162, 198]], 'airline', 0.7253257065939672), ([[67, 193], [127, 193], [127, 235], [67, 235]], 'PK', 0.9934936858123246), ([[162, 194], [236, 194], [236, 244], [162, 244]], 'trip', 0.9996635913848877), ([[162, 238], [348, 238], [348, 288], [162, 288]], 'departure', 0.9999853372036357), ([[163, 321], [277, 321], [277, 361], [163, 361]], 'arrival', 0.7612822062497787), ([[163, 413], [309, 413], [309, 455], [163, 455]], 'duration', 0.9999841053648999)]\n",
      "['flight', 'airline', 'PK', 'trip', 'departure', 'arrival', 'duration']\n",
      "['entity', 'PK', 'flight', 'airline', 'trip', 'departure', 'arrival', 'duration']\n"
     ]
    }
   ],
   "source": [
    "# Test the function\n",
    "image_path = 'entity_1_060.png'\n",
    "lines = extract_text_line_by_line(image_path)\n",
    "print(lines)\n",
    "arr = []\n",
    "\n",
    "if image_path.find(\"entity\") >= 0:\n",
    "    arr.append(\"entity\")\n",
    "    # for line in lines:\n",
    "    #     if line == \"PK\":\n",
    "    #         arr.append(\"PK\")\n",
    "\n",
    "if image_path.find(\"rel_attribute\") >= 0:\n",
    "    arr.append(\"rel_attribute\")\n",
    "\n",
    "if image_path.find(\"relationship\") >= 0:\n",
    "    arr.append(\"relationship\")\n",
    "\n",
    "for line in lines:\n",
    "    # if line == \"PK\":\n",
    "    #     continue\n",
    "    arr.append(line)\n",
    "\n",
    "val = arr.count('PK')\n",
    "arr2 = list()\n",
    "if (val == 1):\n",
    "  idx = arr.index('PK')\n",
    "  if (idx != 1):\n",
    "    substring = list(arr[1:idx]) #1 item\n",
    "    substring2 = list(arr[idx+1:]) #everything after PK\n",
    "    arr2.append(arr[0]) #title\n",
    "    arr2.append(arr[idx]) #adding PK\n",
    "\n",
    "    for item in substring:\n",
    "      arr2.append(item)\n",
    "\n",
    "    for item in substring2:\n",
    "      arr2.append(item)\n",
    "\n",
    "\n",
    "\n",
    "print(arr2)\n"
   ]
  },
  {
   "cell_type": "code",
   "execution_count": null,
   "metadata": {},
   "outputs": [],
   "source": [
    "# save output"
   ]
  }
 ],
 "metadata": {
  "colab": {
   "provenance": []
  },
  "kernelspec": {
   "display_name": "Python 3 (ipykernel)",
   "language": "python",
   "name": "python3"
  },
  "language_info": {
   "codemirror_mode": {
    "name": "ipython",
    "version": 3
   },
   "file_extension": ".py",
   "mimetype": "text/x-python",
   "name": "python",
   "nbconvert_exporter": "python",
   "pygments_lexer": "ipython3",
   "version": "3.10.13"
  }
 },
 "nbformat": 4,
 "nbformat_minor": 4
}
