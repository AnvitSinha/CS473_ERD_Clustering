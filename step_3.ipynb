{
 "cells": [
  {
   "cell_type": "code",
   "execution_count": 75,
   "id": "f9ab76a9-e02b-4966-a3a8-d5ebd64b5f57",
   "metadata": {
    "tags": []
   },
   "outputs": [
    {
     "name": "stdout",
     "output_type": "stream",
     "text": [
      "['entity', 'input', 'hello', 'world', 'me', 'it', 'DATESS']\n",
      "['PK', 'flight', 'is', 'here', 'now', 'there', 'beat']\n",
      "['jesus', 'relation', 'ship', 'require', 'this', 'that']\n",
      "\n",
      "['entity', 'input', 'hello', 'world', 'we', 'is', 'dates']\n",
      "['PK', 'flights', 'is', 'where', 'new', 'these', 'beat']\n",
      "['jesus', 'relation', 'ship', 'require', 'this', 'that']\n",
      "\n",
      "['entiti', 'input', 'hello', 'world', 'date']\n",
      "['pk', 'flight', 'new', 'beat']\n",
      "['jesu', 'relat', 'ship', 'requir']\n",
      "\n"
     ]
    }
   ],
   "source": [
    "#OVERALL: take the input from step_2_output.txt and do edit distance, remove stop words, and stem\n",
    "\n",
    "import editdistance as ed\n",
    "import nltk\n",
    "from nltk.corpus import stopwords\n",
    "from nltk.stem import PorterStemmer\n",
    "ps = PorterStemmer()\n",
    "import string\n",
    "\n",
    "#0: helper function for print, change \"check\" to True to run with outputs printed to console, False to run without\n",
    "def myprint(arr):\n",
    "    check = True\n",
    "    if check:\n",
    "        for line in arr:\n",
    "            print(line)\n",
    "        print()\n",
    "\n",
    "#1: read input into arrays of lines\n",
    "input_file = open(\"step2_output_dummy.txt\", 'r')\n",
    "all_lines = []\n",
    "for lines in input_file:\n",
    "    all_lines.append(lines.split())\n",
    "myprint(all_lines)\n",
    "\n",
    "#2: select words from question text to serve as a library of vocabulary for edit distance\n",
    "vocab_file = open(\"vocab.txt\", 'r')\n",
    "vocabulary = vocab_file.read().lower()\n",
    "for punc in string.punctuation:\n",
    "    vocabulary = vocabulary.replace(punc, '')\n",
    "vocabulary = set(vocabulary.split())\n",
    "\n",
    "#3: modify words to closest edit distance in vocabulary\n",
    "for i, lines in enumerate(all_lines):\n",
    "    for j, word in enumerate(lines):\n",
    "        for vocab in vocabulary:\n",
    "            if ed.eval(word.lower(), vocab) <= 1:\n",
    "                all_lines[i][j] = vocab\n",
    "                break\n",
    "myprint(all_lines)\n",
    "\n",
    "#4: remove any stop words and stem all words\n",
    "nltk.download('stopwords', quiet=True)\n",
    "nltk.download('wordnet', quiet=True)\n",
    "nltk.download('punkt', quiet=True)\n",
    "stop_words = set(stopwords.words('english'))\n",
    "for i, lines in enumerate(all_lines):\n",
    "    filtered_words = [ps.stem(w) for w in lines if w.lower() not in stop_words]\n",
    "    all_lines[i] = filtered_words\n",
    "myprint(all_lines)\n",
    "\n",
    "#5: output result in step3_output.txt\n",
    "output_file = open(\"step3_output.txt\", 'w')\n",
    "for lines in all_lines:\n",
    "    for word in lines:\n",
    "        output_file.write(word + ' ')\n",
    "    output_file.write('\\n')"
   ]
  },
  {
   "cell_type": "code",
   "execution_count": null,
   "id": "e108a187-f427-4106-b6c0-a52b5f1af0f4",
   "metadata": {},
   "outputs": [],
   "source": []
  }
 ],
 "metadata": {
  "kernelspec": {
   "display_name": "Python 3 (ipykernel)",
   "language": "python",
   "name": "python3"
  },
  "language_info": {
   "codemirror_mode": {
    "name": "ipython",
    "version": 3
   },
   "file_extension": ".py",
   "mimetype": "text/x-python",
   "name": "python",
   "nbconvert_exporter": "python",
   "pygments_lexer": "ipython3",
   "version": "3.10.13"
  }
 },
 "nbformat": 4,
 "nbformat_minor": 5
}
