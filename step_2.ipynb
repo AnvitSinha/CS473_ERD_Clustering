{
 "cells": [
  {
   "cell_type": "code",
   "execution_count": 12,
   "id": "3438fe95-47be-406e-9a31-117d266c0269",
   "metadata": {},
   "outputs": [
    {
     "name": "stdout",
     "output_type": "stream",
     "text": [
      "[([[408, 74], [743, 74], [743, 194], [408, 194]], 'games_', 0.6382545002246605), ([[783, 80], [1041, 80], [1041, 172], [783, 172]], 'sales', 0.9999812341499377), ([[59, 325], [199, 325], [199, 411], [59, 411]], 'PK', 0.99943763877846), ([[300, 314], [615, 314], [615, 435], [300, 435]], 'region', 0.9998714199580473), ([[647, 319], [1051, 319], [1051, 432], [647, 432]], 'id, game_', 0.7117719555958173), ([[1089, 319], [1316, 319], [1316, 415], [1089, 415]], 'rank', 0.6841703372487178), ([[305, 561], [553, 561], [553, 653], [305, 653]], 'sales', 0.9999683326039076)]\n",
      "['games_', 'sales', 'PK', 'region', 'id, game_', 'rank', 'sales']\n",
      "['entity', 'games_', 'sales', 'PK', 'region', 'id, game_', 'rank', 'sales']\n"
     ]
    }
   ],
   "source": [
    "# step 2: use easyocr to extract words from the images in 'step1_output' and save them to an array. write the results to a text file\n",
    "\n",
    "import easyocr\n",
    "\n",
    "def extract_text_line_by_line(image_path):\n",
    "    # Create an EasyOCR reader instance with English as the default language\n",
    "    reader = easyocr.Reader(lang_list=['en'])\n",
    "    \n",
    "    # Extract text from the image\n",
    "    results = reader.readtext(image_path, paragraph=False)\n",
    "    print(results)\n",
    "    \n",
    "    # Sort results based on top-left y coordinate (for top to bottom)\n",
    "    # and then on the top-left x coordinate (for left to right)\n",
    "    # results.sort(key=lambda detection: (detection[0][0][1], detection[0][0][0]))\n",
    "    \n",
    "    # Extract and store recognized text\n",
    "    extracted_lines = [detection[1] for detection in results]\n",
    "    \n",
    "    return extracted_lines\n",
    "    \n",
    "# Test the function\n",
    "image_path = './entity_games_sales.png'\n",
    "lines = extract_text_line_by_line(image_path)\n",
    "print(lines)\n",
    "arr = []\n",
    "\n",
    "if image_path.find(\"entity\") >= 0:\n",
    "    arr.append(\"entity\")\n",
    "    # for line in lines:\n",
    "    #     if line == \"PK\":\n",
    "    #         arr.append(\"PK\")\n",
    "\n",
    "if image_path.find(\"rel_attribute\") >= 0:\n",
    "    arr.append(\"rel_attribute\")\n",
    "    \n",
    "if image_path.find(\"relationship\") >= 0:\n",
    "    arr.append(\"relationship\")\n",
    "    \n",
    "for line in lines:\n",
    "    # if line == \"PK\":\n",
    "    #     continue\n",
    "    arr.append(line)\n",
    "print(arr)\n",
    "\n",
    " "
   ]
  }
 ],
 "metadata": {
  "kernelspec": {
   "display_name": "Python 3 (ipykernel)",
   "language": "python",
   "name": "python3"
  },
  "language_info": {
   "codemirror_mode": {
    "name": "ipython",
    "version": 3
   },
   "file_extension": ".py",
   "mimetype": "text/x-python",
   "name": "python",
   "nbconvert_exporter": "python",
   "pygments_lexer": "ipython3",
   "version": "3.10.13"
  }
 },
 "nbformat": 4,
 "nbformat_minor": 5
}
