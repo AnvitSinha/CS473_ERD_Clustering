{
  "nbformat": 4,
  "nbformat_minor": 0,
  "metadata": {
    "colab": {
      "provenance": []
    },
    "kernelspec": {
      "name": "python3",
      "display_name": "Python 3"
    },
    "language_info": {
      "name": "python"
    }
  },
  "cells": [
    {
      "cell_type": "code",
      "execution_count": null,
      "metadata": {
        "colab": {
          "base_uri": "https://localhost:8080/"
        },
        "id": "X_eVMuMAS0wo",
        "outputId": "fcbce4fd-ac7c-4cbd-d3e4-5f43443fee6f"
      },
      "outputs": [
        {
          "output_type": "stream",
          "name": "stdout",
          "text": [
            "Collecting easyocr\n",
            "  Downloading easyocr-1.7.1-py3-none-any.whl (2.9 MB)\n",
            "\u001b[2K     \u001b[90m━━━━━━━━━━━━━━━━━━━━━━━━━━━━━━━━━━━━━━━━\u001b[0m \u001b[32m2.9/2.9 MB\u001b[0m \u001b[31m25.4 MB/s\u001b[0m eta \u001b[36m0:00:00\u001b[0m\n",
            "\u001b[?25hRequirement already satisfied: torch in /usr/local/lib/python3.10/dist-packages (from easyocr) (2.1.0+cu118)\n",
            "Requirement already satisfied: torchvision>=0.5 in /usr/local/lib/python3.10/dist-packages (from easyocr) (0.16.0+cu118)\n",
            "Requirement already satisfied: opencv-python-headless in /usr/local/lib/python3.10/dist-packages (from easyocr) (4.8.1.78)\n",
            "Requirement already satisfied: scipy in /usr/local/lib/python3.10/dist-packages (from easyocr) (1.11.3)\n",
            "Requirement already satisfied: numpy in /usr/local/lib/python3.10/dist-packages (from easyocr) (1.23.5)\n",
            "Requirement already satisfied: Pillow in /usr/local/lib/python3.10/dist-packages (from easyocr) (9.4.0)\n",
            "Requirement already satisfied: scikit-image in /usr/local/lib/python3.10/dist-packages (from easyocr) (0.19.3)\n",
            "Collecting python-bidi (from easyocr)\n",
            "  Downloading python_bidi-0.4.2-py2.py3-none-any.whl (30 kB)\n",
            "Requirement already satisfied: PyYAML in /usr/local/lib/python3.10/dist-packages (from easyocr) (6.0.1)\n",
            "Requirement already satisfied: Shapely in /usr/local/lib/python3.10/dist-packages (from easyocr) (2.0.2)\n",
            "Collecting pyclipper (from easyocr)\n",
            "  Downloading pyclipper-1.3.0.post5-cp310-cp310-manylinux_2_12_x86_64.manylinux2010_x86_64.whl (908 kB)\n",
            "\u001b[2K     \u001b[90m━━━━━━━━━━━━━━━━━━━━━━━━━━━━━━━━━━━━━━━━\u001b[0m \u001b[32m908.3/908.3 kB\u001b[0m \u001b[31m63.0 MB/s\u001b[0m eta \u001b[36m0:00:00\u001b[0m\n",
            "\u001b[?25hCollecting ninja (from easyocr)\n",
            "  Downloading ninja-1.11.1.1-py2.py3-none-manylinux1_x86_64.manylinux_2_5_x86_64.whl (307 kB)\n",
            "\u001b[2K     \u001b[90m━━━━━━━━━━━━━━━━━━━━━━━━━━━━━━━━━━━━━━━━\u001b[0m \u001b[32m307.2/307.2 kB\u001b[0m \u001b[31m32.2 MB/s\u001b[0m eta \u001b[36m0:00:00\u001b[0m\n",
            "\u001b[?25hRequirement already satisfied: requests in /usr/local/lib/python3.10/dist-packages (from torchvision>=0.5->easyocr) (2.31.0)\n",
            "Requirement already satisfied: filelock in /usr/local/lib/python3.10/dist-packages (from torch->easyocr) (3.12.4)\n",
            "Requirement already satisfied: typing-extensions in /usr/local/lib/python3.10/dist-packages (from torch->easyocr) (4.5.0)\n",
            "Requirement already satisfied: sympy in /usr/local/lib/python3.10/dist-packages (from torch->easyocr) (1.12)\n",
            "Requirement already satisfied: networkx in /usr/local/lib/python3.10/dist-packages (from torch->easyocr) (3.2)\n",
            "Requirement already satisfied: jinja2 in /usr/local/lib/python3.10/dist-packages (from torch->easyocr) (3.1.2)\n",
            "Requirement already satisfied: fsspec in /usr/local/lib/python3.10/dist-packages (from torch->easyocr) (2023.6.0)\n",
            "Requirement already satisfied: triton==2.1.0 in /usr/local/lib/python3.10/dist-packages (from torch->easyocr) (2.1.0)\n",
            "Requirement already satisfied: six in /usr/local/lib/python3.10/dist-packages (from python-bidi->easyocr) (1.16.0)\n",
            "Requirement already satisfied: imageio>=2.4.1 in /usr/local/lib/python3.10/dist-packages (from scikit-image->easyocr) (2.31.6)\n",
            "Requirement already satisfied: tifffile>=2019.7.26 in /usr/local/lib/python3.10/dist-packages (from scikit-image->easyocr) (2023.9.26)\n",
            "Requirement already satisfied: PyWavelets>=1.1.1 in /usr/local/lib/python3.10/dist-packages (from scikit-image->easyocr) (1.4.1)\n",
            "Requirement already satisfied: packaging>=20.0 in /usr/local/lib/python3.10/dist-packages (from scikit-image->easyocr) (23.2)\n",
            "Requirement already satisfied: MarkupSafe>=2.0 in /usr/local/lib/python3.10/dist-packages (from jinja2->torch->easyocr) (2.1.3)\n",
            "Requirement already satisfied: charset-normalizer<4,>=2 in /usr/local/lib/python3.10/dist-packages (from requests->torchvision>=0.5->easyocr) (3.3.1)\n",
            "Requirement already satisfied: idna<4,>=2.5 in /usr/local/lib/python3.10/dist-packages (from requests->torchvision>=0.5->easyocr) (3.4)\n",
            "Requirement already satisfied: urllib3<3,>=1.21.1 in /usr/local/lib/python3.10/dist-packages (from requests->torchvision>=0.5->easyocr) (2.0.7)\n",
            "Requirement already satisfied: certifi>=2017.4.17 in /usr/local/lib/python3.10/dist-packages (from requests->torchvision>=0.5->easyocr) (2023.7.22)\n",
            "Requirement already satisfied: mpmath>=0.19 in /usr/local/lib/python3.10/dist-packages (from sympy->torch->easyocr) (1.3.0)\n",
            "Installing collected packages: pyclipper, ninja, python-bidi, easyocr\n",
            "Successfully installed easyocr-1.7.1 ninja-1.11.1.1 pyclipper-1.3.0.post5 python-bidi-0.4.2\n"
          ]
        }
      ],
      "source": [
        "!pip install easyocr\n",
        "import easyocr\n",
        "\n",
        "def extract_text_line_by_line(image_path):\n",
        "    # Create an EasyOCR reader instance with English as the default language\n",
        "    reader = easyocr.Reader(lang_list=['en'])\n",
        "\n",
        "    # Extract text from the image\n",
        "    results = reader.readtext(image_path, paragraph=False)\n",
        "    print(results)\n",
        "\n",
        "    # Sort results based on top-left y coordinate (for top to bottom)\n",
        "    # and then on the top-left x coordinate (for left to right)\n",
        "    # results.sort(key=lambda detection: (detection[0][0][1], detection[0][0][0]))\n",
        "\n",
        "    # Extract and store recognized text\n",
        "    extracted_lines = [detection[1] for detection in results]\n",
        "\n",
        "    return extracted_lines"
      ]
    },
    {
      "cell_type": "code",
      "source": [
        "# Test the function\n",
        "\n",
        "\n",
        "def get_text(image_path):\n",
        "  lines = extract_text_line_by_line(image_path)\n",
        "  #print(lines)\n",
        "  arr = []\n",
        "  if image_path.find(\"weak_entity\") >= 0:\n",
        "    arr.append(\"weak_entity\")\n",
        "  elif image_path.find(\"rel_attr\") >= 0:\n",
        "    arr.append(\"rel_attr\")\n",
        "  elif image_path.find(\"entity\") >= 0:\n",
        "    arr.append(\"entity\")\n",
        "  elif image_path.find(\"ident_rel\") >= 0:\n",
        "    arr.append(\"ident_rel\")\n",
        "  elif image_path.find(\"rel\") >= 0:\n",
        "    arr.append(\"rel\")\n",
        "\n",
        "  for line in lines:\n",
        "    arr.append(line)\n",
        "\n",
        "  val = arr.count('PK')\n",
        "  arr2 = list()\n",
        "  if (val == 1):\n",
        "    idx = arr.index('PK')\n",
        "    if (idx != 1):\n",
        "      substring = list(arr[1:idx]) #1 item\n",
        "      substring2 = list(arr[idx+1:]) #everything after PK\n",
        "      arr2.append(arr[0]) #title\n",
        "      arr2.append(arr[idx]) #adding PK\n",
        "\n",
        "      for item in substring:\n",
        "        arr2.append(item)\n",
        "\n",
        "      for item in substring2:\n",
        "        arr2.append(item)\n",
        "\n",
        "      return arr\n"
      ],
      "metadata": {
        "colab": {
          "base_uri": "https://localhost:8080/"
        },
        "id": "_Qev2nQgS9kO",
        "outputId": "9c4b08ef-7f76-4373-8e3a-77cc2012cfce"
      },
      "execution_count": null,
      "outputs": [
        {
          "output_type": "stream",
          "name": "stderr",
          "text": [
            "WARNING:easyocr.easyocr:Neither CUDA nor MPS are available - defaulting to CPU. Note: This module is much faster with a GPU.\n"
          ]
        },
        {
          "output_type": "stream",
          "name": "stdout",
          "text": [
            "[([[272, 58], [380, 58], [380, 106], [272, 106]], 'flight', 0.9999929919481131), ([[156, 140], [280, 140], [280, 188], [156, 188]], 'airline', 0.7551315710180588), ([[61, 183], [121, 183], [121, 225], [61, 225]], 'PK', 0.9939338124697796), ([[156, 184], [230, 184], [230, 234], [156, 234]], 'trip', 0.9995867013931274), ([[156, 228], [342, 228], [342, 278], [156, 278]], 'departure', 0.9999860922011956), ([[159, 313], [271, 313], [271, 351], [159, 351]], 'arrival', 0.968692979346595), ([[157, 405], [303, 405], [303, 447], [157, 447]], 'duration', 0.9792457652719082)]\n",
            "['flight', 'airline', 'PK', 'trip', 'departure', 'arrival', 'duration']\n",
            "['flight', 'PK', 'airline', 'trip', 'departure', 'arrival', 'duration']\n"
          ]
        }
      ]
    }
  ]
}