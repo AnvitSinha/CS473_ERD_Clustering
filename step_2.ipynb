{
 "cells": [
  {
   "cell_type": "code",
   "execution_count": 14,
   "id": "3438fe95-47be-406e-9a31-117d266c0269",
   "metadata": {},
   "outputs": [
    {
     "name": "stdout",
     "output_type": "stream",
     "text": [
      "['games_ sales', 'PK', 'region id, game_ rank', 'sales']\n",
      "['entity', 'games_ sales', 'PK', 'region id, game_ rank', 'sales']\n"
     ]
    }
   ],
   "source": [
    "# step 2: use easyocr to extract words from the images in 'step1_output' and save them to an array. write the results to a text file\n",
    "\n",
    "import easyocr\n",
    "\n",
    "def extract_text_line_by_line(image_path):\n",
    "    # Create an EasyOCR reader instance with English as the default language\n",
    "    reader = easyocr.Reader(lang_list=['en'])\n",
    "    \n",
    "    # Extract text from the image\n",
    "    results = reader.readtext(image_path, paragraph=False)\n",
    "    \n",
    "    # Initialize a list to store lines of text\n",
    "    lines = []\n",
    "\n",
    "    # Iterate through detected text and bounding boxes\n",
    "    for (bbox, text, prob) in results:\n",
    "        # Get the y-coordinate of the top-left corner of the bounding box\n",
    "        top_left_y = bbox[0][1]\n",
    "\n",
    "        # Check if the current text is on the same line as the previous text\n",
    "        if lines and abs(lines[-1]['bbox'][0][1] - top_left_y) < 10:  # 10 is a threshold for vertical alignment\n",
    "            # Append text to the last line\n",
    "            lines[-1]['text'] += ' ' + text\n",
    "        else:\n",
    "            # Create a new line with the current text and bounding box\n",
    "            lines.append({'text': text, 'bbox': bbox})\n",
    "\n",
    "    # Extract and store recognized text lines\n",
    "    extracted_lines = [line['text'] for line in lines]\n",
    "    \n",
    "    return extracted_lines\n",
    "    \n",
    "# Test the function\n",
    "image_path = './entity_games_sales.png'\n",
    "lines = extract_text_line_by_line(image_path)\n",
    "print(lines)\n",
    "arr = []\n",
    "\n",
    "if image_path.find(\"entity\") >= 0:\n",
    "    arr.append(\"entity\")\n",
    "    # for line in lines:\n",
    "    #     if line == \"PK\":\n",
    "    #         arr.append(\"PK\")\n",
    "\n",
    "if image_path.find(\"rel_attribute\") >= 0:\n",
    "    arr.append(\"rel_attribute\")\n",
    "    \n",
    "if image_path.find(\"relationship\") >= 0:\n",
    "    arr.append(\"relationship\")\n",
    "    \n",
    "for line in lines:\n",
    "    # if line == \"PK\":\n",
    "    #     continue\n",
    "    arr.append(line)\n",
    "print(arr)\n",
    "\n",
    " "
   ]
  }
 ],
 "metadata": {
  "kernelspec": {
   "display_name": "Python 3 (ipykernel)",
   "language": "python",
   "name": "python3"
  },
  "language_info": {
   "codemirror_mode": {
    "name": "ipython",
    "version": 3
   },
   "file_extension": ".py",
   "mimetype": "text/x-python",
   "name": "python",
   "nbconvert_exporter": "python",
   "pygments_lexer": "ipython3",
   "version": "3.10.13"
  }
 },
 "nbformat": 4,
 "nbformat_minor": 5
}
