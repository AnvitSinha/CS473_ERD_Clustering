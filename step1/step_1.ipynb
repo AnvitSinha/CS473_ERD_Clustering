{
 "cells": [
  {
   "cell_type": "code",
   "execution_count": 1,
   "id": "4e11bd16-44b0-4527-a555-2c1593cfea4c",
   "metadata": {},
   "outputs": [],
   "source": [
    "# create the function to get the co-ordinates\n"
   ]
  },
  {
   "cell_type": "code",
   "execution_count": null,
   "id": "7a1843ae-271e-4f2a-8858-874d0ff60443",
   "metadata": {},
   "outputs": [],
   "source": [
    "# create the function to save the outputs to the folder \"step1_output\""
   ]
  }
 ],
 "metadata": {
  "kernelspec": {
   "display_name": "Python 3 (ipykernel)",
   "language": "python",
   "name": "python3"
  },
  "language_info": {
   "codemirror_mode": {
    "name": "ipython",
    "version": 3
   },
   "file_extension": ".py",
   "mimetype": "text/x-python",
   "name": "python",
   "nbconvert_exporter": "python",
   "pygments_lexer": "ipython3",
   "version": "3.10.13"
  }
 },
 "nbformat": 4,
 "nbformat_minor": 5
}
