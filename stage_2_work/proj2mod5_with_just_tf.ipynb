{
  "nbformat": 4,
  "nbformat_minor": 0,
  "metadata": {
    "colab": {
      "provenance": []
    },
    "kernelspec": {
      "name": "python3",
      "display_name": "Python 3"
    },
    "language_info": {
      "name": "python"
    }
  },
  "cells": [
    {
      "cell_type": "code",
      "execution_count": null,
      "metadata": {
        "colab": {
          "base_uri": "https://localhost:8080/"
        },
        "id": "xtFpDIUx8u66",
        "outputId": "90b8b021-8e3d-46fa-97b5-d3977a3ebd04"
      },
      "outputs": [
        {
          "output_type": "stream",
          "name": "stdout",
          "text": [
            "Requirement already satisfied: numpy in /usr/local/lib/python3.10/dist-packages (1.23.5)\n",
            "Requirement already satisfied: scikit-learn in /usr/local/lib/python3.10/dist-packages (1.2.2)\n",
            "Requirement already satisfied: scipy>=1.3.2 in /usr/local/lib/python3.10/dist-packages (from scikit-learn) (1.11.4)\n",
            "Requirement already satisfied: joblib>=1.1.1 in /usr/local/lib/python3.10/dist-packages (from scikit-learn) (1.3.2)\n",
            "Requirement already satisfied: threadpoolctl>=2.0.0 in /usr/local/lib/python3.10/dist-packages (from scikit-learn) (3.2.0)\n"
          ]
        }
      ],
      "source": [
        "!pip install numpy scikit-learn\n"
      ]
    },
    {
      "cell_type": "code",
      "source": [
        "import numpy as np\n",
        "from sklearn.feature_extraction.text import CountVectorizer\n",
        "from sklearn.preprocessing import StandardScaler\n",
        "from sklearn.cluster import KMeans\n",
        "from sklearn.metrics import silhouette_score\n",
        "from scipy.sparse import hstack\n"
      ],
      "metadata": {
        "id": "MPkANTSu8x20"
      },
      "execution_count": null,
      "outputs": []
    },
    {
      "cell_type": "code",
      "source": [
        "# Sample ERD data (replace with actual data)\n",
        "erds = [\n",
        "    {\n",
        "        'num_entities': 4,\n",
        "        'num_weak_entities': 1,\n",
        "        'num_rel': 5,\n",
        "        'num_iden_rel': 2,\n",
        "        'num_rel_attr': 4,\n",
        "        'text_inside_rel': ['Includes', 'Includes', 'Booking airline', 'Booking airline', 'Operating airline'],\n",
        "        'text_inside_iden_rel': ['Contains', 'Contains'],\n",
        "        'text_inside_rel_attr': ['price', 'maximum number', 'price', 'maximum number']\n",
        "    },\n",
        "    {\n",
        "        'num_entities': 3,\n",
        "        'num_weak_entities': 2,\n",
        "        'num_rel': 2,\n",
        "        'num_iden_rel': 5,\n",
        "        'num_rel_attr': 2,\n",
        "        'text_inside_rel': ['Sold by', 'Sold by'],\n",
        "        'text_inside_iden_rel': ['Has', 'Operated by', 'Has', 'Allowed Bags', 'Allowed Bags'],\n",
        "        'text_inside_rel_attr': ['Max Bags', 'Max Bags']\n",
        "    },\n",
        "    {\n",
        "        'num_entities': 4,\n",
        "        'num_weak_entities': 0,\n",
        "        'num_rel': 6,\n",
        "        'num_iden_rel': 0,\n",
        "        'num_rel_attr': 2,\n",
        "        'text_inside_rel': ['allows', 'Sold', 'Operated', 'allows', 'Sold', 'Operated'],\n",
        "        'text_inside_iden_rel': [],\n",
        "        'text_inside_rel_attr': ['bag_price', 'bag_price']\n",
        "    },\n",
        "    {\n",
        "        'num_entities': 2,\n",
        "        'num_weak_entities': 3,\n",
        "        'num_rel': 0,\n",
        "        'num_iden_rel': 8,\n",
        "        'num_rel_attr': 4,\n",
        "        'text_inside_rel': [],\n",
        "        'text_inside_iden_rel': ['Departure', 'Departure', 'Return', 'Sell', 'Operate', 'Sell', 'Allowed bag', 'Allowed bag'],\n",
        "        'text_inside_rel_attr': ['Price', 'Max number', 'Price', 'Max number']\n",
        "    },\n",
        "    {\n",
        "        'num_entities': 3,\n",
        "        'num_weak_entities': 2,\n",
        "        'num_rel': 4,\n",
        "        'num_iden_rel': 2,\n",
        "        'num_rel_attr': 2,\n",
        "        'text_inside_rel': ['operated', 'has', 'round-trip allowed', 'one-way allowed'],\n",
        "        'text_inside_iden_rel': ['round-trip sold by', 'one-way sold by'],\n",
        "        'text_inside_rel_attr': ['round-trip bag type price', 'one-way bag type price']\n",
        "    },\n",
        "    {\n",
        "        'num_entities': 3,\n",
        "        'num_weak_entities': 4,\n",
        "        'num_rel': 3,\n",
        "        'num_iden_rel': 1,\n",
        "        'num_rel_attr': 3,\n",
        "        'text_inside_rel': ['Has', 'Sold by', 'Operates'],\n",
        "        'text_inside_iden_rel': ['Allows'],\n",
        "        'text_inside_rel_attr': ['Type', 'Price', 'Maximum Number']\n",
        "    },\n",
        "    {\n",
        "        'num_entities': 3,\n",
        "        'num_weak_entities': 1,\n",
        "        'num_rel': 3,\n",
        "        'num_iden_rel': 1,\n",
        "        'num_rel_attr': 2,\n",
        "        'text_inside_rel': ['Sold by', 'Operated by', 'Allowed'],\n",
        "        'text_inside_iden_rel': ['Flown on'],\n",
        "        'text_inside_rel_attr': ['price', 'maximum_number']\n",
        "    },\n",
        "    {\n",
        "        'num_entities': 4,\n",
        "        'num_weak_entities': 0 ,\n",
        "        'num_rel': 4 ,\n",
        "        'num_iden_rel': 0,\n",
        "        'num_rel_attr': 1 ,\n",
        "        'text_inside_rel': ['sold by','operated by','has','allow'],\n",
        "        'text_inside_iden_rel': [],\n",
        "        'text_inside_rel_attr': ['price']\n",
        "    },\n",
        "    {\n",
        "        'num_entities': 4 ,\n",
        "        'num_weak_entities': 0,\n",
        "        'num_rel': 3 ,\n",
        "        'num_iden_rel': 0 ,\n",
        "        'num_rel_attr': 0,\n",
        "        'text_inside_rel': ['sells by','has','allows','max_number'],\n",
        "        'text_inside_iden_rel': [],\n",
        "        'text_inside_rel_attr': []\n",
        "    },\n",
        "    {\n",
        "        'num_entities': 3 ,\n",
        "        'num_weak_entities': 0 ,\n",
        "        'num_rel': 2 ,\n",
        "        'num_iden_rel': 0 ,\n",
        "        'num_rel_attr': 7 ,\n",
        "        'text_inside_rel': ['flight','allows'],\n",
        "        'text_inside_iden_rel': [],\n",
        "        'text_inside_rel_attr': ['origin','destination','duration','departure date-time','arrival']\n",
        "    },\n",
        "    {\n",
        "        'num_entities': 4,\n",
        "        'num_weak_entities': 0,\n",
        "        'num_rel': 7,\n",
        "        'num_iden_rel': 0,\n",
        "        'num_rel_attr': 2,\n",
        "        'text_inside_rel': ['Uses','Contains','Can have','Can have', 'Allows','Provides','Sells'],\n",
        "        'text_inside_iden_rel': [],\n",
        "        'text_inside_rel_attr': ['max_bags','price']\n",
        "    }\n",
        "    # You can add more ERD samples as needed\n",
        "]\n"
      ],
      "metadata": {
        "id": "Z1GbzmhYSuLi"
      },
      "execution_count": null,
      "outputs": []
    },
    {
      "cell_type": "code",
      "source": [
        "\n",
        "# Vectorizers for each text category\n",
        "vectorizer_rel = CountVectorizer()\n",
        "vectorizer_iden_rel = CountVectorizer()\n",
        "vectorizer_rel_attr = CountVectorizer()\n",
        "\n",
        "# Vectorizing text features\n",
        "tf_matrix_rel = vectorizer_rel.fit_transform([' '.join(erd['text_inside_rel']) for erd in erds])\n",
        "tf_matrix_iden_rel = vectorizer_iden_rel.fit_transform([' '.join(erd['text_inside_iden_rel']) for erd in erds])\n",
        "tf_matrix_rel_attr = vectorizer_rel_attr.fit_transform([' '.join(erd['text_inside_rel_attr']) for erd in erds])\n",
        "\n",
        "# Combine the vectorized text features\n",
        "combined_text_features = hstack([tf_matrix_rel, tf_matrix_iden_rel, tf_matrix_rel_attr])\n",
        "\n",
        "# Extract and normalize numerical features\n",
        "numerical_features = [[erd['num_entities'], erd['num_weak_entities'], erd['num_rel'],\n",
        "                       erd['num_iden_rel'], erd['num_rel_attr']] for erd in erds]\n",
        "# Normalize the numerical features\n",
        "# scaler = StandardScaler()\n",
        "# normalized_numerical_features = scaler.fit_transform(numerical_features)\n",
        "\n",
        "#Combine text and numerical features\n",
        "combined_features = hstack([combined_text_features, numerical_features])\n"
      ],
      "metadata": {
        "id": "CtVVTcHh86Xq"
      },
      "execution_count": null,
      "outputs": []
    },
    {
      "cell_type": "code",
      "source": [
        "# Clustering using KMeans\n",
        "kmeans = KMeans(n_clusters=4, init='k-means++')\n",
        "clusters = kmeans.fit_predict(combined_features)\n",
        "\n",
        "print(\"Cluster assignments:\", clusters)\n",
        "# Evaluate the clustering (optional)\n",
        "from sklearn.metrics.cluster import rand_score\n",
        "print(rand_score([0, 0, 0, 0, 0, 1, 1, 1, 1, 2, 3], clusters))"
      ],
      "metadata": {
        "colab": {
          "base_uri": "https://localhost:8080/"
        },
        "id": "uxrZgSYN87bq",
        "outputId": "b006d08c-a618-43aa-ed7d-6842dc81392c"
      },
      "execution_count": 193,
      "outputs": [
        {
          "output_type": "stream",
          "name": "stdout",
          "text": [
            "Cluster assignments: [0 3 2 3 1 1 2 2 2 1 2]\n",
            "0.6\n"
          ]
        },
        {
          "output_type": "stream",
          "name": "stderr",
          "text": [
            "/usr/local/lib/python3.10/dist-packages/sklearn/cluster/_kmeans.py:870: FutureWarning: The default value of `n_init` will change from 10 to 'auto' in 1.4. Set the value of `n_init` explicitly to suppress the warning\n",
            "  warnings.warn(\n"
          ]
        }
      ]
    },
    {
      "cell_type": "code",
      "source": [
        "from sklearn.metrics.cluster import rand_score\n",
        "random_seeds = range(1000)\n",
        "\n",
        "for seed in random_seeds:\n",
        "    kmeans = KMeans(n_clusters=4, random_state=seed)\n",
        "    kmeans.fit(combined_features)  # Assuming 'combined_features' is your dataset\n",
        "\n",
        "    cluster_assignments = kmeans.labels_\n",
        "    print(f\"Random Seed: {seed}, Cluster Assignments: {cluster_assignments}\")\n",
        "    print(rand_score([0, 0, 0, 0, 0, 1, 1, 1, 1, 2, 3], cluster_assignments))"
      ],
      "metadata": {
        "id": "PC7Zjqw288tP"
      },
      "execution_count": null,
      "outputs": []
    }
  ]
}