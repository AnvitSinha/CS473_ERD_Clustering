{
 "cells": [
  {
   "cell_type": "code",
   "execution_count": 12,
   "id": "3438fe95-47be-406e-9a31-117d266c0269",
   "metadata": {},
   "outputs": [
    {
     "name": "stdout",
     "output_type": "stream",
     "text": [
      "['entity', 'PK', 'flight', 'airline', 'trip', 'departure', 'arrival', 'duration']\n"
     ]
    }
   ],
   "source": [
    "# step 2: use easyocr to extract words from the images in 'step1_output' and save them to an array. write the results to a text file\n",
    "\n",
    "import easyocr\n",
    "\n",
    "def extract_text_line_by_line(image_path):\n",
    "    # Create an EasyOCR reader instance with English as the default language\n",
    "    reader = easyocr.Reader(lang_list=['en'])\n",
    "    \n",
    "    # Extract text from the image\n",
    "    results = reader.readtext(image_path, paragraph=False)\n",
    "    \n",
    "    # Sort results based on top-left y coordinate (for top to bottom)\n",
    "    # and then on the top-left x coordinate (for left to right)\n",
    "    # results.sort(key=lambda detection: (detection[0][0][1], detection[0][0][0]))\n",
    "    \n",
    "    # Extract and store recognized text\n",
    "    extracted_lines = [detection[1] for detection in results]\n",
    "    \n",
    "    return extracted_lines\n",
    "    \n",
    "# Test the function\n",
    "image_path = './entity_1_060.png'\n",
    "lines = extract_text_line_by_line(image_path)\n",
    "arr = []\n",
    "\n",
    "if image_path.find(\"entity\") >= 0:\n",
    "    arr.append(\"entity\")\n",
    "    for line in lines:\n",
    "        if line == \"PK\":\n",
    "            arr.append(\"PK\")\n",
    "\n",
    "if image_path.find(\"rel_attribute\") >= 0:\n",
    "    arr.append(\"rel_attribute\")\n",
    "    \n",
    "if image_path.find(\"relationship\") >= 0:\n",
    "    arr.append(\"relationship\")\n",
    "    \n",
    "for line in lines:\n",
    "    if line == \"PK\":\n",
    "        continue\n",
    "    arr.append(line)\n",
    "print(arr)\n",
    "\n",
    " "
   ]
  }
 ],
 "metadata": {
  "kernelspec": {
   "display_name": "Python 3 (ipykernel)",
   "language": "python",
   "name": "python3"
  },
  "language_info": {
   "codemirror_mode": {
    "name": "ipython",
    "version": 3
   },
   "file_extension": ".py",
   "mimetype": "text/x-python",
   "name": "python",
   "nbconvert_exporter": "python",
   "pygments_lexer": "ipython3",
   "version": "3.10.13"
  }
 },
 "nbformat": 4,
 "nbformat_minor": 5
}
